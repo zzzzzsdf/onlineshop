{
  "nbformat": 4,
  "nbformat_minor": 0,
  "metadata": {
    "colab": {
      "provenance": [],
      "collapsed_sections": [],
      "authorship_tag": "ABX9TyMiGtFMCI/bqRH1UXnZB0YP",
      "include_colab_link": true
    },
    "kernelspec": {
      "name": "python3",
      "display_name": "Python 3"
    },
    "language_info": {
      "name": "python"
    }
  },
  "cells": [
    {
      "cell_type": "markdown",
      "metadata": {
        "id": "view-in-github",
        "colab_type": "text"
      },
      "source": [
        "<a href=\"https://colab.research.google.com/github/zzzzzsdf/onlineshop/blob/master/python_1.ipynb\" target=\"_parent\"><img src=\"https://colab.research.google.com/assets/colab-badge.svg\" alt=\"Open In Colab\"/></a>"
      ]
    },
    {
      "cell_type": "code",
      "execution_count": null,
      "metadata": {
        "id": "cuNPYEqz53L8"
      },
      "outputs": [],
      "source": [
        "class Counter:\n",
        "  def reset(self):\n",
        "    self.count = 0 \n",
        "  def increment(self):\n",
        "    self.count += 1\n",
        "  def get(self):\n",
        "      return self.count\n",
        "\n",
        "\n",
        "a = Counter()\n",
        "b = Counter()\n",
        "a.reset()\n",
        "b.reset()"
      ]
    },
    {
      "cell_type": "markdown",
      "source": [],
      "metadata": {
        "id": "fenScLsc955C"
      }
    },
    {
      "cell_type": "code",
      "source": [],
      "metadata": {
        "id": "C8DWfUA_96bl"
      },
      "execution_count": null,
      "outputs": []
    }
  ]
}